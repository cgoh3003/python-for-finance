{
 "cells": [
  {
   "cell_type": "markdown",
   "metadata": {},
   "source": [
    "## Logarithmic Returns"
   ]
  },
  {
   "cell_type": "code",
   "execution_count": 5,
   "metadata": {},
   "outputs": [
    {
     "data": {
      "text/html": [
       "<div>\n",
       "<style scoped>\n",
       "    .dataframe tbody tr th:only-of-type {\n",
       "        vertical-align: middle;\n",
       "    }\n",
       "\n",
       "    .dataframe tbody tr th {\n",
       "        vertical-align: top;\n",
       "    }\n",
       "\n",
       "    .dataframe thead th {\n",
       "        text-align: right;\n",
       "    }\n",
       "</style>\n",
       "<table border=\"1\" class=\"dataframe\">\n",
       "  <thead>\n",
       "    <tr style=\"text-align: right;\">\n",
       "      <th></th>\n",
       "      <th>High</th>\n",
       "      <th>Low</th>\n",
       "      <th>Open</th>\n",
       "      <th>Close</th>\n",
       "      <th>Volume</th>\n",
       "      <th>Adj Close</th>\n",
       "    </tr>\n",
       "    <tr>\n",
       "      <th>Date</th>\n",
       "      <th></th>\n",
       "      <th></th>\n",
       "      <th></th>\n",
       "      <th></th>\n",
       "      <th></th>\n",
       "      <th></th>\n",
       "    </tr>\n",
       "  </thead>\n",
       "  <tbody>\n",
       "    <tr>\n",
       "      <th>1999-12-31</th>\n",
       "      <td>3.445313</td>\n",
       "      <td>3.445313</td>\n",
       "      <td>3.445313</td>\n",
       "      <td>3.445313</td>\n",
       "      <td>1600.0</td>\n",
       "      <td>2.699311</td>\n",
       "    </tr>\n",
       "    <tr>\n",
       "      <th>2000-01-03</th>\n",
       "      <td>3.468750</td>\n",
       "      <td>3.406250</td>\n",
       "      <td>3.453125</td>\n",
       "      <td>3.433594</td>\n",
       "      <td>76000.0</td>\n",
       "      <td>2.690130</td>\n",
       "    </tr>\n",
       "    <tr>\n",
       "      <th>2000-01-04</th>\n",
       "      <td>3.687500</td>\n",
       "      <td>3.515625</td>\n",
       "      <td>3.546875</td>\n",
       "      <td>3.632813</td>\n",
       "      <td>772800.0</td>\n",
       "      <td>2.846212</td>\n",
       "    </tr>\n",
       "    <tr>\n",
       "      <th>2000-01-05</th>\n",
       "      <td>3.781250</td>\n",
       "      <td>3.625000</td>\n",
       "      <td>3.718750</td>\n",
       "      <td>3.781250</td>\n",
       "      <td>164800.0</td>\n",
       "      <td>2.962509</td>\n",
       "    </tr>\n",
       "    <tr>\n",
       "      <th>2000-01-06</th>\n",
       "      <td>4.000000</td>\n",
       "      <td>3.812500</td>\n",
       "      <td>3.937500</td>\n",
       "      <td>3.906250</td>\n",
       "      <td>94400.0</td>\n",
       "      <td>3.060443</td>\n",
       "    </tr>\n",
       "    <tr>\n",
       "      <th>...</th>\n",
       "      <td>...</td>\n",
       "      <td>...</td>\n",
       "      <td>...</td>\n",
       "      <td>...</td>\n",
       "      <td>...</td>\n",
       "      <td>...</td>\n",
       "    </tr>\n",
       "    <tr>\n",
       "      <th>2021-12-16</th>\n",
       "      <td>83.849998</td>\n",
       "      <td>82.080002</td>\n",
       "      <td>83.080002</td>\n",
       "      <td>82.620003</td>\n",
       "      <td>936300.0</td>\n",
       "      <td>82.620003</td>\n",
       "    </tr>\n",
       "    <tr>\n",
       "      <th>2021-12-17</th>\n",
       "      <td>83.540001</td>\n",
       "      <td>82.120003</td>\n",
       "      <td>82.620003</td>\n",
       "      <td>83.300003</td>\n",
       "      <td>1127300.0</td>\n",
       "      <td>83.300003</td>\n",
       "    </tr>\n",
       "    <tr>\n",
       "      <th>2021-12-20</th>\n",
       "      <td>81.959999</td>\n",
       "      <td>80.739998</td>\n",
       "      <td>81.540001</td>\n",
       "      <td>81.860001</td>\n",
       "      <td>500900.0</td>\n",
       "      <td>81.860001</td>\n",
       "    </tr>\n",
       "    <tr>\n",
       "      <th>2021-12-21</th>\n",
       "      <td>84.169998</td>\n",
       "      <td>82.150002</td>\n",
       "      <td>82.339996</td>\n",
       "      <td>84.099998</td>\n",
       "      <td>670200.0</td>\n",
       "      <td>84.099998</td>\n",
       "    </tr>\n",
       "    <tr>\n",
       "      <th>2021-12-22</th>\n",
       "      <td>85.269997</td>\n",
       "      <td>84.879997</td>\n",
       "      <td>85.070000</td>\n",
       "      <td>85.150002</td>\n",
       "      <td>111657.0</td>\n",
       "      <td>85.150002</td>\n",
       "    </tr>\n",
       "  </tbody>\n",
       "</table>\n",
       "<p>5531 rows × 6 columns</p>\n",
       "</div>"
      ],
      "text/plain": [
       "                 High        Low       Open      Close     Volume  Adj Close\n",
       "Date                                                                        \n",
       "1999-12-31   3.445313   3.445313   3.445313   3.445313     1600.0   2.699311\n",
       "2000-01-03   3.468750   3.406250   3.453125   3.433594    76000.0   2.690130\n",
       "2000-01-04   3.687500   3.515625   3.546875   3.632813   772800.0   2.846212\n",
       "2000-01-05   3.781250   3.625000   3.718750   3.781250   164800.0   2.962509\n",
       "2000-01-06   4.000000   3.812500   3.937500   3.906250    94400.0   3.060443\n",
       "...               ...        ...        ...        ...        ...        ...\n",
       "2021-12-16  83.849998  82.080002  83.080002  82.620003   936300.0  82.620003\n",
       "2021-12-17  83.540001  82.120003  82.620003  83.300003  1127300.0  83.300003\n",
       "2021-12-20  81.959999  80.739998  81.540001  81.860001   500900.0  81.860001\n",
       "2021-12-21  84.169998  82.150002  82.339996  84.099998   670200.0  84.099998\n",
       "2021-12-22  85.269997  84.879997  85.070000  85.150002   111657.0  85.150002\n",
       "\n",
       "[5531 rows x 6 columns]"
      ]
     },
     "execution_count": 5,
     "metadata": {},
     "output_type": "execute_result"
    }
   ],
   "source": [
    "import numpy as np\n",
    "from pandas_datareader import data as wb\n",
    "import matplotlib.pyplot as plt\n",
    "MSFT = wb.DataReader('MSFT', data_source='yahoo', start='2000-1-1')\n",
    "MSFT"
   ]
  },
  {
   "cell_type": "markdown",
   "metadata": {},
   "source": [
    "### Log Returns"
   ]
  },
  {
   "cell_type": "markdown",
   "metadata": {},
   "source": [
    "$$\n",
    "ln(\\frac{P_t}{P_{t-1}})\n",
    "$$"
   ]
  },
  {
   "cell_type": "markdown",
   "metadata": {},
   "source": [
    "Calculate the Log returns for Microsoft."
   ]
  },
  {
   "cell_type": "code",
   "execution_count": 3,
   "metadata": {},
   "outputs": [
    {
     "data": {
      "text/html": [
       "<div>\n",
       "<style scoped>\n",
       "    .dataframe tbody tr th:only-of-type {\n",
       "        vertical-align: middle;\n",
       "    }\n",
       "\n",
       "    .dataframe tbody tr th {\n",
       "        vertical-align: top;\n",
       "    }\n",
       "\n",
       "    .dataframe thead th {\n",
       "        text-align: right;\n",
       "    }\n",
       "</style>\n",
       "<table border=\"1\" class=\"dataframe\">\n",
       "  <thead>\n",
       "    <tr style=\"text-align: right;\">\n",
       "      <th></th>\n",
       "      <th>High</th>\n",
       "      <th>Low</th>\n",
       "      <th>Open</th>\n",
       "      <th>Close</th>\n",
       "      <th>Volume</th>\n",
       "      <th>Adj Close</th>\n",
       "    </tr>\n",
       "    <tr>\n",
       "      <th>Date</th>\n",
       "      <th></th>\n",
       "      <th></th>\n",
       "      <th></th>\n",
       "      <th></th>\n",
       "      <th></th>\n",
       "      <th></th>\n",
       "    </tr>\n",
       "  </thead>\n",
       "  <tbody>\n",
       "    <tr>\n",
       "      <th>1999-12-31</th>\n",
       "      <td>58.8750</td>\n",
       "      <td>58.1250</td>\n",
       "      <td>58.75000</td>\n",
       "      <td>58.37500</td>\n",
       "      <td>12517600.0</td>\n",
       "      <td>36.853390</td>\n",
       "    </tr>\n",
       "    <tr>\n",
       "      <th>2000-01-03</th>\n",
       "      <td>59.3125</td>\n",
       "      <td>56.0000</td>\n",
       "      <td>58.68750</td>\n",
       "      <td>58.28125</td>\n",
       "      <td>53228400.0</td>\n",
       "      <td>36.794224</td>\n",
       "    </tr>\n",
       "    <tr>\n",
       "      <th>2000-01-04</th>\n",
       "      <td>58.5625</td>\n",
       "      <td>56.1250</td>\n",
       "      <td>56.78125</td>\n",
       "      <td>56.31250</td>\n",
       "      <td>54119000.0</td>\n",
       "      <td>35.551300</td>\n",
       "    </tr>\n",
       "    <tr>\n",
       "      <th>2000-01-05</th>\n",
       "      <td>58.1875</td>\n",
       "      <td>54.6875</td>\n",
       "      <td>55.56250</td>\n",
       "      <td>56.90625</td>\n",
       "      <td>64059600.0</td>\n",
       "      <td>35.926151</td>\n",
       "    </tr>\n",
       "    <tr>\n",
       "      <th>2000-01-06</th>\n",
       "      <td>56.9375</td>\n",
       "      <td>54.1875</td>\n",
       "      <td>56.09375</td>\n",
       "      <td>55.00000</td>\n",
       "      <td>54976600.0</td>\n",
       "      <td>34.722679</td>\n",
       "    </tr>\n",
       "  </tbody>\n",
       "</table>\n",
       "</div>"
      ],
      "text/plain": [
       "               High      Low      Open     Close      Volume  Adj Close\n",
       "Date                                                                   \n",
       "1999-12-31  58.8750  58.1250  58.75000  58.37500  12517600.0  36.853390\n",
       "2000-01-03  59.3125  56.0000  58.68750  58.28125  53228400.0  36.794224\n",
       "2000-01-04  58.5625  56.1250  56.78125  56.31250  54119000.0  35.551300\n",
       "2000-01-05  58.1875  54.6875  55.56250  56.90625  64059600.0  35.926151\n",
       "2000-01-06  56.9375  54.1875  56.09375  55.00000  54976600.0  34.722679"
      ]
     },
     "execution_count": 3,
     "metadata": {},
     "output_type": "execute_result"
    }
   ],
   "source": [
    "MSFT.head()"
   ]
  },
  {
   "cell_type": "markdown",
   "metadata": {},
   "source": [
    "Plot the results on a graph."
   ]
  },
  {
   "cell_type": "code",
   "execution_count": 10,
   "metadata": {},
   "outputs": [
    {
     "name": "stdout",
     "output_type": "stream",
     "text": [
      "Date\n",
      "1999-12-31         NaN\n",
      "2000-01-03   -0.001607\n",
      "2000-01-04   -0.034364\n",
      "2000-01-05    0.010489\n",
      "2000-01-06   -0.034072\n",
      "                ...   \n",
      "2021-12-16   -0.029568\n",
      "2021-12-17   -0.003391\n",
      "2021-12-20   -0.012086\n",
      "2021-12-21    0.022807\n",
      "2021-12-22    0.004147\n",
      "Name: log_return, Length: 5531, dtype: float64\n"
     ]
    }
   ],
   "source": [
    "MSFT['log_return']=np.log(MSFT['Adj Close']/MSFT['Adj Close'].shift(1))\n",
    "print(MSFT['log_return'])"
   ]
  },
  {
   "cell_type": "code",
   "execution_count": 11,
   "metadata": {},
   "outputs": [
    {
     "data": {
      "image/png": "[encoded data removed]",
      "text/plain": [
       "<Figure size 576x360 with 1 Axes>"
      ]
     },
     "metadata": {
      "needs_background": "light"
     },
     "output_type": "display_data"
    }
   ],
   "source": [
    "MSFT['log_return'].plot(figsize=(8,5))\n",
    "plt.show()"
   ]
  },
  {
   "cell_type": "markdown",
   "metadata": {},
   "source": [
    "Estimate the daily and the annual mean of the obtained log returns."
   ]
  },
  {
   "cell_type": "code",
   "execution_count": 13,
   "metadata": {},
   "outputs": [
    {
     "data": {
      "text/plain": [
       "0.000395668306368293"
      ]
     },
     "execution_count": 13,
     "metadata": {},
     "output_type": "execute_result"
    }
   ],
   "source": [
    "log_return_d=MSFT['log_return'].mean()\n",
    "log_return_d"
   ]
  },
  {
   "cell_type": "code",
   "execution_count": 15,
   "metadata": {},
   "outputs": [
    {
     "data": {
      "text/plain": [
       "0.09891707659207324"
      ]
     },
     "execution_count": 15,
     "metadata": {},
     "output_type": "execute_result"
    }
   ],
   "source": [
    "log_return_a=MSFT['log_return'].mean()*250\n",
    "log_return_a"
   ]
  },
  {
   "cell_type": "markdown",
   "metadata": {},
   "source": [
    "Print the result in a presentable form."
   ]
  },
  {
   "cell_type": "code",
   "execution_count": 19,
   "metadata": {},
   "outputs": [
    {
     "name": "stdout",
     "output_type": "stream",
     "text": [
      "9.892%\n"
     ]
    }
   ],
   "source": [
    "print(str(round(log_return_a,5)*100)+'%')"
   ]
  },
  {
   "cell_type": "markdown",
   "metadata": {},
   "source": [
    "****"
   ]
  },
  {
   "cell_type": "markdown",
   "metadata": {},
   "source": [
    "Repeat this exercise for any stock of interest to you. :)"
   ]
  }
 ],
 "metadata": {
  "kernelspec": {
   "display_name": "Python 3 (ipykernel)",
   "language": "python",
   "name": "python3"
  },
  "language_info": {
   "codemirror_mode": {
    "name": "ipython",
    "version": 3
   },
   "file_extension": ".py",
   "mimetype": "text/x-python",
   "name": "python",
   "nbconvert_exporter": "python",
   "pygments_lexer": "ipython3",
   "version": "3.9.7"
  }
 },
 "nbformat": 4,
 "nbformat_minor": 2
}
